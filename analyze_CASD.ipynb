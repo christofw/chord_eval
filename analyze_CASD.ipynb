{
  "nbformat": 4,
  "nbformat_minor": 0,
  "metadata": {
    "colab": {
      "name": "analyze_CASD.ipynb",
      "provenance": [],
      "collapsed_sections": [],
      "authorship_tag": "ABX9TyO2CGqw+L7UeT1BGiHzLbip",
      "include_colab_link": true
    },
    "kernelspec": {
      "name": "python3",
      "display_name": "Python 3"
    },
    "language_info": {
      "name": "python"
    }
  },
  "cells": [
    {
      "cell_type": "markdown",
      "metadata": {
        "id": "view-in-github",
        "colab_type": "text"
      },
      "source": [
        "<a href=\"https://colab.research.google.com/github/christofw/chord_eval/blob/main/analyze_CASD.ipynb\" target=\"_parent\"><img src=\"https://colab.research.google.com/assets/colab-badge.svg\" alt=\"Open In Colab\"/></a>"
      ]
    },
    {
      "cell_type": "code",
      "execution_count": 68,
      "metadata": {
        "id": "EOaPGkkbjJey"
      },
      "outputs": [],
      "source": [
        "# !pip install jams\n",
        "# !pip install libfmp\n",
        "# !pip install wget\n",
        "import numpy as np, os, scipy\n",
        "import pandas as pd\n",
        "from matplotlib import pyplot as plt\n",
        "import librosa\n",
        "import libfmp\n",
        "import jams\n",
        "import mir_eval\n",
        "import urllib.request as urll\n",
        "import wget"
      ]
    },
    {
      "cell_type": "markdown",
      "source": [
        "## Load Chordify Annotator Subjectivity Dataset\n",
        "... and corresponding functions"
      ],
      "metadata": {
        "id": "xEHrrIOu7Gzz"
      }
    },
    {
      "cell_type": "code",
      "source": [
        "# !git clone https://github.com/chordify/CASD.git\n",
        "\n",
        "# create chroma from chord label\n",
        "def labchroma(l):\n",
        "    r,c,b = mir_eval.chord.encode(l)\n",
        "    return np.roll(c,r)\n",
        "\n",
        "# plot the chromas of the annotators of song s\n",
        "def plotchroma(filename):\n",
        "    jam = jams.load(filename)\n",
        "\n",
        "    nannotations = len(jam['annotations'])\n",
        "    f, axarr = plt.subplots(nannotations, sharex=False, sharey=True, figsize=(10, 5))\n",
        "    for (ann, ax) in zip(jam['annotations'],axarr):\n",
        "        chroma = np.array([labchroma(lab.value) for lab in ann.data])\n",
        "        im = ax.matshow(chroma.T, aspect='auto', cmap=plt.cm.Blues)\n",
        "        ax.set_ylabel(ann.annotation_metadata.annotator.id)\n",
        "        ax.get_yaxis().set_ticks([])\n",
        "    f.tight_layout()\n",
        "    \n",
        "filename = os.path.join('CASD', 'jams', '1012.jams')\n",
        "jam = jams.load(filename)\n",
        "ann1 = jam['annotations'][0]['data']\n",
        "print(len(ann1))\n",
        "\n",
        "plotchroma(filename)"
      ],
      "metadata": {
        "colab": {
          "base_uri": "https://localhost:8080/",
          "height": 386
        },
        "id": "G4Yw-1FkzpUT",
        "outputId": "8545d5bf-18b7-4ff6-89cc-07aa339a55bf"
      },
      "execution_count": 77,
      "outputs": [
        {
          "output_type": "stream",
          "name": "stdout",
          "text": [
            "617\n"
          ]
        },
        {
          "output_type": "display_data",
          "data": {
            "text/plain": [
              "<Figure size 720x360 with 4 Axes>"
            ],
            "image/png": "[encoded data removed]"
          },
          "metadata": {
            "needs_background": "light"
          }
        }
      ]
    },
    {
      "cell_type": "code",
      "source": [
        ""
      ],
      "metadata": {
        "id": "-LuCYqMi3wE3"
      },
      "execution_count": null,
      "outputs": []
    }
  ]
}